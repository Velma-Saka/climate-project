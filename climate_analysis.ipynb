{
 "cells": [
  {
   "cell_type": "markdown",
   "id": "a13f82f4",
   "metadata": {},
   "source": [
    "# Climate Analysis Project\n",
    "**Author:** Velma-Saka  \n",
    "**Date:** 20/10/2025  \n",
    "\n",
    "This notebook contains climate data analysis for the Climate Project. We will explore temperature, rainfall, and deforestation trends.\n"
   ]
  },
  {
   "cell_type": "markdown",
   "id": "f18224b0",
   "metadata": {},
   "source": [
    "## Objectives\n",
    "- Load climate datasets\n",
    "- Explore and visualize climate trends\n",
    "- Summarize insights\n",
    "- Prepare data for further analysis or machine learning\n"
   ]
  },
  {
   "cell_type": "code",
   "execution_count": 5,
   "id": "6ba3125c",
   "metadata": {},
   "outputs": [],
   "source": [
    "# Import necessary Python libraries\n",
    "import pandas as pd\n",
    "import numpy as np\n",
    "import matplotlib.pyplot as plt\n",
    "import seaborn as sns\n",
    "\n",
    "# For Jupyter notebook visualization\n",
    "%matplotlib inline\n"
   ]
  },
  {
   "cell_type": "code",
   "execution_count": 6,
   "id": "393885df",
   "metadata": {},
   "outputs": [
    {
     "name": "stdout",
     "output_type": "stream",
     "text": [
      "Dataset loaded successfully!\n"
     ]
    }
   ],
   "source": [
    "# Load climate dataset (update with your actual file path)\n",
    "# For example, a CSV named 'climate_data.csv'\n",
    "try:\n",
    "    climate_data = pd.read_csv('climate_data.csv')\n",
    "    print(\"Dataset loaded successfully!\")\n",
    "except FileNotFoundError:\n",
    "    print(\"Dataset not found. Please add 'climate_data.csv' in the project folder.\")\n",
    "\n",
    "# Show the first few rows\n",
    "# climate_data.head()\n"
   ]
  },
  {
   "cell_type": "markdown",
   "id": "5d5b677f",
   "metadata": {},
   "source": [
    "# Climate Analysis Project\n",
    "Author: Velma-Saka\n"
   ]
  },
  {
   "cell_type": "code",
   "execution_count": 7,
   "id": "3a4ab6c8",
   "metadata": {},
   "outputs": [
    {
     "data": {
      "text/html": [
       "<div>\n",
       "<style scoped>\n",
       "    .dataframe tbody tr th:only-of-type {\n",
       "        vertical-align: middle;\n",
       "    }\n",
       "\n",
       "    .dataframe tbody tr th {\n",
       "        vertical-align: top;\n",
       "    }\n",
       "\n",
       "    .dataframe thead th {\n",
       "        text-align: right;\n",
       "    }\n",
       "</style>\n",
       "<table border=\"1\" class=\"dataframe\">\n",
       "  <thead>\n",
       "    <tr style=\"text-align: right;\">\n",
       "      <th></th>\n",
       "      <th></th>\n",
       "      <th></th>\n",
       "      <th></th>\n",
       "      <th>climate_data.csv</th>\n",
       "    </tr>\n",
       "  </thead>\n",
       "  <tbody>\n",
       "    <tr>\n",
       "      <th>Year</th>\n",
       "      <th>Country</th>\n",
       "      <th>Average_Temperature</th>\n",
       "      <th>Total_Rainfall</th>\n",
       "      <td>Deforestation_Rate</td>\n",
       "    </tr>\n",
       "    <tr>\n",
       "      <th>2018</th>\n",
       "      <th>Kenya</th>\n",
       "      <th>24.5</th>\n",
       "      <th>800</th>\n",
       "      <td>0.5</td>\n",
       "    </tr>\n",
       "    <tr>\n",
       "      <th>2019</th>\n",
       "      <th>Kenya</th>\n",
       "      <th>24.8</th>\n",
       "      <th>750</th>\n",
       "      <td>0.6</td>\n",
       "    </tr>\n",
       "    <tr>\n",
       "      <th>2020</th>\n",
       "      <th>Kenya</th>\n",
       "      <th>25.1</th>\n",
       "      <th>780</th>\n",
       "      <td>0.7</td>\n",
       "    </tr>\n",
       "    <tr>\n",
       "      <th>2021</th>\n",
       "      <th>Kenya</th>\n",
       "      <th>25.3</th>\n",
       "      <th>790</th>\n",
       "      <td>0.8</td>\n",
       "    </tr>\n",
       "  </tbody>\n",
       "</table>\n",
       "</div>"
      ],
      "text/plain": [
       "                                                   climate_data.csv\n",
       "Year Country Average_Temperature Total_Rainfall  Deforestation_Rate\n",
       "2018 Kenya   24.5                800                            0.5\n",
       "2019 Kenya   24.8                750                            0.6\n",
       "2020 Kenya   25.1                780                            0.7\n",
       "2021 Kenya   25.3                790                            0.8"
      ]
     },
     "execution_count": 7,
     "metadata": {},
     "output_type": "execute_result"
    }
   ],
   "source": [
    "import pandas as pd\n",
    "\n",
    "# Load the sample dataset\n",
    "climate_data = pd.read_csv('climate_data.csv')\n",
    "climate_data.head()\n"
   ]
  }
 ],
 "metadata": {
  "kernelspec": {
   "display_name": "base",
   "language": "python",
   "name": "python3"
  },
  "language_info": {
   "codemirror_mode": {
    "name": "ipython",
    "version": 3
   },
   "file_extension": ".py",
   "mimetype": "text/x-python",
   "name": "python",
   "nbconvert_exporter": "python",
   "pygments_lexer": "ipython3",
   "version": "3.13.5"
  }
 },
 "nbformat": 4,
 "nbformat_minor": 5
}
